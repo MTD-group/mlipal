{
 "cells": [
  {
   "cell_type": "code",
   "execution_count": 35,
   "id": "6255738d-0271-4557-8cb9-8ab76b5b97fa",
   "metadata": {},
   "outputs": [],
   "source": [
    "import ase.io\n",
    "import ase.build\n",
    "from mlipal import descriptors\n",
    "import os\n",
    "import shutil"
   ]
  },
  {
   "cell_type": "code",
   "execution_count": 42,
   "id": "3ffa6949-924a-482c-98ae-d40433ec48f5",
   "metadata": {},
   "outputs": [
    {
     "data": {
      "text/plain": [
       "Atoms(symbols='Si16', pbc=True, cell=[[0.0, 5.4, 5.4], [5.4, 0.0, 5.4], [5.4, 5.4, 0.0]])"
      ]
     },
     "execution_count": 42,
     "metadata": {},
     "output_type": "execute_result"
    }
   ],
   "source": [
    "atoms = ase.build.bulk('Si', 'diamond', a=5.4)\n",
    "atoms = ase.build.make_supercell(atoms, [[2,0,0], [0,2,0], [0,0,2]])\n",
    "atoms"
   ]
  },
  {
   "cell_type": "code",
   "execution_count": 37,
   "id": "2a895eb4-ff19-40c3-b074-df6b55b5d39c",
   "metadata": {},
   "outputs": [
    {
     "data": {
      "text/plain": [
       "[{'type': 'G4',\n",
       "  'elements': ['Si', 'Si'],\n",
       "  'eta': 100,\n",
       "  'gamma': -1,\n",
       "  'zeta': 0.5},\n",
       " {'type': 'G4', 'elements': ['Si', 'Si'], 'eta': 100, 'gamma': 1, 'zeta': 0.5},\n",
       " {'type': 'G4', 'elements': ['Si', 'Si'], 'eta': 100, 'gamma': -1, 'zeta': 1},\n",
       " {'type': 'G4', 'elements': ['Si', 'Si'], 'eta': 100, 'gamma': 1, 'zeta': 1},\n",
       " {'type': 'G4', 'elements': ['Si', 'Si'], 'eta': 100, 'gamma': -1, 'zeta': 2},\n",
       " {'type': 'G4', 'elements': ['Si', 'Si'], 'eta': 100, 'gamma': 1, 'zeta': 2},\n",
       " {'type': 'G4', 'elements': ['Si', 'Si'], 'eta': 100, 'gamma': -1, 'zeta': 4},\n",
       " {'type': 'G4', 'elements': ['Si', 'Si'], 'eta': 100, 'gamma': 1, 'zeta': 4}]"
      ]
     },
     "execution_count": 37,
     "metadata": {},
     "output_type": "execute_result"
    }
   ],
   "source": [
    "if os.path.exists('amp-data-fingerprints.ampdb'):\n",
    "    shutil.rmtree('amp-data-fingerprints.ampdb')\n",
    "    shutil.rmtree('amp-data-neighborlists.ampdb')\n",
    "descriptor = descriptors.three_body_gaussians(atoms, etas=[100])\n",
    "descriptor.parameters['Gs']"
   ]
  },
  {
   "cell_type": "code",
   "execution_count": 38,
   "id": "39650391-57b3-4807-9683-31809f77de9d",
   "metadata": {},
   "outputs": [],
   "source": [
    "from amp.utilities import get_hash"
   ]
  },
  {
   "cell_type": "code",
   "execution_count": 39,
   "id": "0769722a-f956-4bc0-9a57-fb2486a98a45",
   "metadata": {},
   "outputs": [],
   "source": [
    "atoms_hash = get_hash(atoms)\n",
    "descriptor.calculate_fingerprints({atoms_hash: atoms})"
   ]
  },
  {
   "cell_type": "code",
   "execution_count": 40,
   "id": "13da1867-0c88-4719-85e9-01b3c039d940",
   "metadata": {
    "tags": []
   },
   "outputs": [
    {
     "data": {
      "text/plain": [
       "[('Si', [0.0, 0.0, 0.0, 0.0, 0.0, 0.0, 0.0, 0.0]),\n",
       " ('Si', [0.0, 0.0, 0.0, 0.0, 0.0, 0.0, 0.0, 0.0]),\n",
       " ('Si', [0.0, 0.0, 0.0, 0.0, 0.0, 0.0, 0.0, 0.0]),\n",
       " ('Si', [0.0, 0.0, 0.0, 0.0, 0.0, 0.0, 0.0, 0.0]),\n",
       " ('Si', [0.0, 0.0, 0.0, 0.0, 0.0, 0.0, 0.0, 0.0]),\n",
       " ('Si', [0.0, 0.0, 0.0, 0.0, 0.0, 0.0, 0.0, 0.0]),\n",
       " ('Si', [0.0, 0.0, 0.0, 0.0, 0.0, 0.0, 0.0, 0.0]),\n",
       " ('Si', [0.0, 0.0, 0.0, 0.0, 0.0, 0.0, 0.0, 0.0]),\n",
       " ('Si', [0.0, 0.0, 0.0, 0.0, 0.0, 0.0, 0.0, 0.0]),\n",
       " ('Si', [0.0, 0.0, 0.0, 0.0, 0.0, 0.0, 0.0, 0.0]),\n",
       " ('Si', [0.0, 0.0, 0.0, 0.0, 0.0, 0.0, 0.0, 0.0]),\n",
       " ('Si', [0.0, 0.0, 0.0, 0.0, 0.0, 0.0, 0.0, 0.0]),\n",
       " ('Si', [0.0, 0.0, 0.0, 0.0, 0.0, 0.0, 0.0, 0.0]),\n",
       " ('Si', [0.0, 0.0, 0.0, 0.0, 0.0, 0.0, 0.0, 0.0]),\n",
       " ('Si', [0.0, 0.0, 0.0, 0.0, 0.0, 0.0, 0.0, 0.0]),\n",
       " ('Si', [0.0, 0.0, 0.0, 0.0, 0.0, 0.0, 0.0, 0.0])]"
      ]
     },
     "execution_count": 40,
     "metadata": {},
     "output_type": "execute_result"
    }
   ],
   "source": [
    "descriptor.fingerprints[atoms_hash]"
   ]
  }
 ],
 "metadata": {
  "kernelspec": {
   "display_name": "Python 3",
   "language": "python",
   "name": "python3"
  },
  "language_info": {
   "codemirror_mode": {
    "name": "ipython",
    "version": 3
   },
   "file_extension": ".py",
   "mimetype": "text/x-python",
   "name": "python",
   "nbconvert_exporter": "python",
   "pygments_lexer": "ipython3",
   "version": "3.8.8"
  }
 },
 "nbformat": 4,
 "nbformat_minor": 5
}
