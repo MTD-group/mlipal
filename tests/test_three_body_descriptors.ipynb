{
 "cells": [
  {
   "cell_type": "code",
   "execution_count": 1,
   "id": "6255738d-0271-4557-8cb9-8ab76b5b97fa",
   "metadata": {},
   "outputs": [],
   "source": [
    "import ase.io\n",
    "import ase.build\n",
    "from mlipal import descriptors\n",
    "import os\n",
    "import shutil"
   ]
  },
  {
   "cell_type": "code",
   "execution_count": 2,
   "id": "3ffa6949-924a-482c-98ae-d40433ec48f5",
   "metadata": {},
   "outputs": [
    {
     "data": {
      "text/plain": [
       "Atoms(symbols='Si2', pbc=True, cell=[[0.0, 2.7, 2.7], [2.7, 0.0, 2.7], [2.7, 2.7, 0.0]])"
      ]
     },
     "execution_count": 2,
     "metadata": {},
     "output_type": "execute_result"
    }
   ],
   "source": [
    "atoms = ase.build.bulk('Si', 'diamond', a=5.4)\n",
    "#atoms = ase.build.make_supercell(atoms, [[2,0,0], [0,2,0], [0,0,2]])\n",
    "atoms"
   ]
  },
  {
   "cell_type": "code",
   "execution_count": 8,
   "id": "2a895eb4-ff19-40c3-b074-df6b55b5d39c",
   "metadata": {},
   "outputs": [
    {
     "data": {
      "text/plain": [
       "[{'type': 'G5',\n",
       "  'elements': ['Si', 'Si'],\n",
       "  'eta': 0.1,\n",
       "  'gamma': -1,\n",
       "  'zeta': 0.5},\n",
       " {'type': 'G5', 'elements': ['Si', 'Si'], 'eta': 0.1, 'gamma': 1, 'zeta': 0.5},\n",
       " {'type': 'G5', 'elements': ['Si', 'Si'], 'eta': 0.1, 'gamma': -1, 'zeta': 1},\n",
       " {'type': 'G5', 'elements': ['Si', 'Si'], 'eta': 0.1, 'gamma': 1, 'zeta': 1},\n",
       " {'type': 'G5', 'elements': ['Si', 'Si'], 'eta': 0.1, 'gamma': -1, 'zeta': 2},\n",
       " {'type': 'G5', 'elements': ['Si', 'Si'], 'eta': 0.1, 'gamma': 1, 'zeta': 2},\n",
       " {'type': 'G5', 'elements': ['Si', 'Si'], 'eta': 0.1, 'gamma': -1, 'zeta': 4},\n",
       " {'type': 'G5', 'elements': ['Si', 'Si'], 'eta': 0.1, 'gamma': 1, 'zeta': 4},\n",
       " {'type': 'G5', 'elements': ['Si', 'Si'], 'eta': 2, 'gamma': -1, 'zeta': 0.5},\n",
       " {'type': 'G5', 'elements': ['Si', 'Si'], 'eta': 2, 'gamma': 1, 'zeta': 0.5},\n",
       " {'type': 'G5', 'elements': ['Si', 'Si'], 'eta': 2, 'gamma': -1, 'zeta': 1},\n",
       " {'type': 'G5', 'elements': ['Si', 'Si'], 'eta': 2, 'gamma': 1, 'zeta': 1},\n",
       " {'type': 'G5', 'elements': ['Si', 'Si'], 'eta': 2, 'gamma': -1, 'zeta': 2},\n",
       " {'type': 'G5', 'elements': ['Si', 'Si'], 'eta': 2, 'gamma': 1, 'zeta': 2},\n",
       " {'type': 'G5', 'elements': ['Si', 'Si'], 'eta': 2, 'gamma': -1, 'zeta': 4},\n",
       " {'type': 'G5', 'elements': ['Si', 'Si'], 'eta': 2, 'gamma': 1, 'zeta': 4}]"
      ]
     },
     "execution_count": 8,
     "metadata": {},
     "output_type": "execute_result"
    }
   ],
   "source": [
    "if os.path.exists('amp-data-fingerprints.ampdb'):\n",
    "    shutil.rmtree('amp-data-fingerprints.ampdb')\n",
    "    shutil.rmtree('amp-data-neighborlists.ampdb')\n",
    "descriptor = descriptors.three_body_gaussians(atoms)\n",
    "descriptor.parameters['Gs']"
   ]
  },
  {
   "cell_type": "code",
   "execution_count": 9,
   "id": "39650391-57b3-4807-9683-31809f77de9d",
   "metadata": {},
   "outputs": [],
   "source": [
    "from amp.utilities import get_hash"
   ]
  },
  {
   "cell_type": "code",
   "execution_count": 10,
   "id": "0769722a-f956-4bc0-9a57-fb2486a98a45",
   "metadata": {},
   "outputs": [],
   "source": [
    "atoms_hash = get_hash(atoms)\n",
    "descriptor.calculate_fingerprints({atoms_hash: atoms})"
   ]
  },
  {
   "cell_type": "code",
   "execution_count": 11,
   "id": "13da1867-0c88-4719-85e9-01b3c039d940",
   "metadata": {
    "tags": []
   },
   "outputs": [
    {
     "data": {
      "text/plain": [
       "[('Si',\n",
       "  [0.11539639549189154,\n",
       "   0.08159757377680121,\n",
       "   0.0942207623705131,\n",
       "   0.04711038118525653,\n",
       "   0.06281384158034205,\n",
       "   0.015703460395085512,\n",
       "   0.02791726292459648,\n",
       "   0.0017448289327872788,\n",
       "   0.011471585120594978,\n",
       "   0.008111635629731405,\n",
       "   0.009366510028787174,\n",
       "   0.004683255014393587,\n",
       "   0.00624434001919145,\n",
       "   0.0015610850047978618,\n",
       "   0.002775262230751757,\n",
       "   0.00017345388942198466]),\n",
       " ('Si',\n",
       "  [0.11539639549189154,\n",
       "   0.08159757377680121,\n",
       "   0.0942207623705131,\n",
       "   0.04711038118525653,\n",
       "   0.06281384158034205,\n",
       "   0.015703460395085512,\n",
       "   0.02791726292459648,\n",
       "   0.0017448289327872788,\n",
       "   0.011471585120594978,\n",
       "   0.008111635629731405,\n",
       "   0.009366510028787174,\n",
       "   0.004683255014393587,\n",
       "   0.00624434001919145,\n",
       "   0.0015610850047978618,\n",
       "   0.002775262230751757,\n",
       "   0.00017345388942198466])]"
      ]
     },
     "execution_count": 11,
     "metadata": {},
     "output_type": "execute_result"
    }
   ],
   "source": [
    "descriptor.fingerprints[atoms_hash]"
   ]
  },
  {
   "cell_type": "code",
   "execution_count": null,
   "id": "08f19f92-a42d-4b07-9efc-16850269fafe",
   "metadata": {},
   "outputs": [],
   "source": []
  }
 ],
 "metadata": {
  "kernelspec": {
   "display_name": "Python 3",
   "language": "python",
   "name": "python3"
  },
  "language_info": {
   "codemirror_mode": {
    "name": "ipython",
    "version": 3
   },
   "file_extension": ".py",
   "mimetype": "text/x-python",
   "name": "python",
   "nbconvert_exporter": "python",
   "pygments_lexer": "ipython3",
   "version": "3.8.8"
  }
 },
 "nbformat": 4,
 "nbformat_minor": 5
}
