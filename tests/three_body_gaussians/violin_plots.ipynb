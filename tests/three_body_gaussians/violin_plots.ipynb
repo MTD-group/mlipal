{
 "cells": [
  {
   "cell_type": "code",
   "execution_count": 10,
   "id": "144c045e-6592-4a63-99e1-f7818d846911",
   "metadata": {},
   "outputs": [],
   "source": [
    "from amp import Amp\n",
    "from amp.descriptor.gaussian import Gaussian\n",
    "from amp.model.neuralnetwork import NeuralNetwork\n",
    "import ase.io\n",
    "import ase.build\n",
    "from mlipal import descriptors\n",
    "import numpy as np\n",
    "import os\n",
    "import shutil"
   ]
  },
  {
   "cell_type": "code",
   "execution_count": 11,
   "id": "6a67904a-87e2-495f-b378-f01b46c1cdf5",
   "metadata": {},
   "outputs": [],
   "source": [
    "from si_e_v import generate_volume_series"
   ]
  },
  {
   "cell_type": "code",
   "execution_count": 23,
   "id": "a9071582-456e-4bcf-843f-a9156f653e60",
   "metadata": {},
   "outputs": [],
   "source": [
    "e_v_structures = generate_volume_series(np.linspace(0.6, 1.3))\n",
    "random_structures = []\n",
    "for i in os.listdir('random_structures'):\n",
    "    random_structures.append(ase.io.read('random_structures/' + i))"
   ]
  },
  {
   "cell_type": "code",
   "execution_count": 24,
   "id": "1e98bac8-a208-4986-ac0b-108e9b0b972f",
   "metadata": {},
   "outputs": [],
   "source": [
    "symm_funcs = descriptors.three_body_gaussians(e_v_structures[0])\n",
    "descriptor = Gaussian(Gs=symm_funcs, cutoff=3)"
   ]
  },
  {
   "cell_type": "code",
   "execution_count": 25,
   "id": "2adf042d-1932-4147-9219-a7c6f851f30c",
   "metadata": {},
   "outputs": [],
   "source": [
    "calc = Amp(descriptor=descriptor, model=NeuralNetwork())"
   ]
  },
  {
   "cell_type": "code",
   "execution_count": 26,
   "id": "22d7c4d4-8ab8-4767-83ab-b7e54341b3ab",
   "metadata": {},
   "outputs": [],
   "source": [
    "from amp.descriptor.analysis import FingerprintPlot"
   ]
  },
  {
   "cell_type": "code",
   "execution_count": 27,
   "id": "8442c456-ac03-4415-a6c8-e366071cb932",
   "metadata": {},
   "outputs": [
    {
     "name": "stdout",
     "output_type": "stream",
     "text": [
      "Si 16\n",
      "Si 16\n",
      "Si 16\n",
      "Si 16\n",
      "Si 16\n",
      "Si 16\n",
      "Si 16\n",
      "Si 16\n",
      "Si 16\n",
      "Si 16\n",
      "Si 16\n",
      "Si 16\n",
      "Si 16\n",
      "Si 16\n",
      "Si 16\n",
      "Si 16\n",
      "Si 16\n",
      "Si 16\n",
      "Si 16\n",
      "Si 16\n",
      "Si 16\n",
      "Si 16\n",
      "Si 16\n",
      "Si 16\n",
      "Si 16\n",
      "Si 16\n",
      "Si 16\n",
      "Si 16\n",
      "Si 16\n",
      "Si 16\n",
      "Si 16\n",
      "Si 16\n",
      "Si 16\n",
      "Si 16\n",
      "Si 16\n",
      "Si 16\n",
      "Si 16\n",
      "Si 16\n",
      "Si 16\n",
      "Si 16\n",
      "Si 16\n",
      "Si 16\n",
      "Si 16\n",
      "Si 16\n",
      "Si 16\n",
      "Si 16\n",
      "Si 16\n",
      "Si 16\n",
      "Si 16\n",
      "Si 16\n",
      "Si 16\n",
      "Si 16\n",
      "Si 16\n",
      "Si 16\n",
      "Si 16\n",
      "Si 16\n",
      "Si 16\n",
      "Si 16\n",
      "Si 16\n",
      "Si 16\n",
      "Si 16\n",
      "Si 16\n",
      "Si 16\n",
      "Si 16\n",
      "Si 16\n",
      "Si 16\n",
      "Si 16\n",
      "Si 16\n",
      "Si 16\n",
      "Si 16\n",
      "Si 16\n",
      "Si 16\n",
      "Si 16\n",
      "Si 16\n",
      "Si 16\n",
      "Si 16\n",
      "Si 16\n",
      "Si 16\n",
      "Si 16\n",
      "Si 16\n",
      "Si 16\n",
      "Si 16\n",
      "Si 16\n",
      "Si 16\n",
      "Si 16\n",
      "Si 16\n",
      "Si 16\n",
      "Si 16\n",
      "Si 16\n",
      "Si 16\n",
      "Si 16\n",
      "Si 16\n",
      "Si 16\n",
      "Si 16\n",
      "Si 16\n",
      "Si 16\n",
      "Si 16\n",
      "Si 16\n",
      "Si 16\n",
      "Si 16\n"
     ]
    },
    {
     "ename": "TypeError",
     "evalue": "'NoneType' object is not subscriptable",
     "output_type": "error",
     "traceback": [
      "\u001b[0;31m---------------------------------------------------------------------------\u001b[0m",
      "\u001b[0;31mTypeError\u001b[0m                                 Traceback (most recent call last)",
      "\u001b[0;32m<ipython-input-27-4311d7a6c708>\u001b[0m in \u001b[0;36m<module>\u001b[0;34m\u001b[0m\n\u001b[1;32m      1\u001b[0m \u001b[0mfpplot\u001b[0m \u001b[0;34m=\u001b[0m \u001b[0mFingerprintPlot\u001b[0m\u001b[0;34m(\u001b[0m\u001b[0mcalc\u001b[0m\u001b[0;34m)\u001b[0m\u001b[0;34m\u001b[0m\u001b[0;34m\u001b[0m\u001b[0m\n\u001b[1;32m      2\u001b[0m \u001b[0;31m#fpplot(random_structures+e_v_structures, name='random_structures_fp.png')\u001b[0m\u001b[0;34m\u001b[0m\u001b[0;34m\u001b[0m\u001b[0;34m\u001b[0m\u001b[0m\n\u001b[0;32m----> 3\u001b[0;31m \u001b[0mfpplot\u001b[0m\u001b[0;34m(\u001b[0m\u001b[0me_v_structures\u001b[0m\u001b[0;34m,\u001b[0m \u001b[0mname\u001b[0m\u001b[0;34m=\u001b[0m\u001b[0;34m'random_structures_fp.png'\u001b[0m\u001b[0;34m)\u001b[0m\u001b[0;34m\u001b[0m\u001b[0;34m\u001b[0m\u001b[0m\n\u001b[0m",
      "\u001b[0;32m~/anaconda3/envs/asap3_amp/lib/python3.8/site-packages/amp/descriptor/analysis.py\u001b[0m in \u001b[0;36m__call__\u001b[0;34m(self, images, name, overlay)\u001b[0m\n\u001b[1;32m     38\u001b[0m             \u001b[0;32mif\u001b[0m \u001b[0mhasattr\u001b[0m\u001b[0;34m(\u001b[0m\u001b[0mself\u001b[0m\u001b[0;34m.\u001b[0m\u001b[0m_calc\u001b[0m\u001b[0;34m.\u001b[0m\u001b[0mmodel\u001b[0m\u001b[0;34m.\u001b[0m\u001b[0mparameters\u001b[0m\u001b[0;34m,\u001b[0m \u001b[0;34m'fprange'\u001b[0m\u001b[0;34m)\u001b[0m\u001b[0;34m:\u001b[0m\u001b[0;34m\u001b[0m\u001b[0;34m\u001b[0m\u001b[0m\n\u001b[1;32m     39\u001b[0m                 \u001b[0max2\u001b[0m \u001b[0;34m=\u001b[0m \u001b[0mfig\u001b[0m\u001b[0;34m.\u001b[0m\u001b[0madd_subplot\u001b[0m\u001b[0;34m(\u001b[0m\u001b[0;36m212\u001b[0m\u001b[0;34m)\u001b[0m\u001b[0;34m\u001b[0m\u001b[0;34m\u001b[0m\u001b[0m\n\u001b[0;32m---> 40\u001b[0;31m                 \u001b[0mfprange\u001b[0m \u001b[0;34m=\u001b[0m \u001b[0mself\u001b[0m\u001b[0;34m.\u001b[0m\u001b[0m_calc\u001b[0m\u001b[0;34m.\u001b[0m\u001b[0mmodel\u001b[0m\u001b[0;34m.\u001b[0m\u001b[0mparameters\u001b[0m\u001b[0;34m.\u001b[0m\u001b[0mfprange\u001b[0m\u001b[0;34m[\u001b[0m\u001b[0melement\u001b[0m\u001b[0;34m]\u001b[0m\u001b[0;34m\u001b[0m\u001b[0;34m\u001b[0m\u001b[0m\n\u001b[0m\u001b[1;32m     41\u001b[0m                 \u001b[0mfprange\u001b[0m \u001b[0;34m=\u001b[0m \u001b[0mnp\u001b[0m\u001b[0;34m.\u001b[0m\u001b[0marray\u001b[0m\u001b[0;34m(\u001b[0m\u001b[0mfprange\u001b[0m\u001b[0;34m)\u001b[0m\u001b[0;34m\u001b[0m\u001b[0;34m\u001b[0m\u001b[0m\n\u001b[1;32m     42\u001b[0m                 \u001b[0mfprange\u001b[0m\u001b[0;34m.\u001b[0m\u001b[0mtranspose\u001b[0m\u001b[0;34m(\u001b[0m\u001b[0;34m)\u001b[0m\u001b[0;34m\u001b[0m\u001b[0;34m\u001b[0m\u001b[0m\n",
      "\u001b[0;31mTypeError\u001b[0m: 'NoneType' object is not subscriptable"
     ]
    },
    {
     "data": {
      "image/png": "[encoded data removed]",
      "text/plain": [
       "<Figure size 792x612 with 2 Axes>"
      ]
     },
     "metadata": {
      "needs_background": "light"
     },
     "output_type": "display_data"
    }
   ],
   "source": [
    "fpplot = FingerprintPlot(calc)\n",
    "#fpplot(random_structures+e_v_structures, name='random_structures_fp.png')\n",
    "fpplot(e_v_structures, name='random_structures_fp.png')"
   ]
  },
  {
   "cell_type": "code",
   "execution_count": null,
   "id": "ebbb1e92-bd92-4b87-ab2a-b949f864627d",
   "metadata": {},
   "outputs": [],
   "source": []
  }
 ],
 "metadata": {
  "kernelspec": {
   "display_name": "Python 3",
   "language": "python",
   "name": "python3"
  },
  "language_info": {
   "codemirror_mode": {
    "name": "ipython",
    "version": 3
   },
   "file_extension": ".py",
   "mimetype": "text/x-python",
   "name": "python",
   "nbconvert_exporter": "python",
   "pygments_lexer": "ipython3",
   "version": "3.8.8"
  }
 },
 "nbformat": 4,
 "nbformat_minor": 5
}
