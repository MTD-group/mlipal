{
 "cells": [
  {
   "cell_type": "code",
   "execution_count": 1,
   "id": "67bc86d5-9b60-491e-8cb0-cca6da759c03",
   "metadata": {},
   "outputs": [],
   "source": [
    "import ase.db\n",
    "import ase.io\n",
    "from ase.md.contour_exploration import ContourExploration\n",
    "import numpy as np\n",
    "from relaxation import relax_structure"
   ]
  },
  {
   "cell_type": "code",
   "execution_count": 2,
   "id": "4f1f097b-28b1-4671-82f0-dd7ef54118a9",
   "metadata": {},
   "outputs": [],
   "source": [
    "db = ase.db.connect('structures.db')"
   ]
  },
  {
   "cell_type": "code",
   "execution_count": 3,
   "id": "86eddad4-fbf7-4669-8d9c-b99d842acd29",
   "metadata": {},
   "outputs": [
    {
     "data": {
      "text/plain": [
       "{'hash': 'e04e48aee1ce94c5940c16bb7886952f', 'type': 'ev'}"
      ]
     },
     "execution_count": 3,
     "metadata": {},
     "output_type": "execute_result"
    }
   ],
   "source": [
    "db.get(id=1).key_value_pairs"
   ]
  },
  {
   "cell_type": "code",
   "execution_count": 4,
   "id": "ca65523d-9770-48d8-8dbb-b876c753f779",
   "metadata": {},
   "outputs": [],
   "source": [
    "id_1 = 1335\n",
    "xtl_1 = db.get_atoms(id=id_1)"
   ]
  },
  {
   "cell_type": "code",
   "execution_count": 5,
   "id": "7b9e7042-3183-49e0-80d7-87f68729aaa0",
   "metadata": {},
   "outputs": [
    {
     "name": "stdout",
     "output_type": "stream",
     "text": [
      "      Step     Time          Energy         fmax\n",
      "BFGS:    0 11:38:43      -33.407323       18.1465\n",
      "BFGS:    1 11:38:43      -43.048713        6.1120\n",
      "BFGS:    2 11:38:43      -45.462762        3.8767\n",
      "BFGS:    3 11:38:43      -47.776815        4.8086\n",
      "BFGS:    4 11:38:43      -48.837090        3.6238\n",
      "BFGS:    5 11:38:43      -49.594682        2.4056\n",
      "BFGS:    6 11:38:43      -50.803555        2.3694\n",
      "BFGS:    7 11:38:43      -51.172978        2.0118\n",
      "BFGS:    8 11:38:43      -51.533611        2.3005\n",
      "BFGS:    9 11:38:43      -51.889408        1.6710\n",
      "BFGS:   10 11:38:43      -52.284674        2.2713\n",
      "BFGS:   11 11:38:43      -52.601101        3.2346\n",
      "BFGS:   12 11:38:43      -53.058613        3.1151\n",
      "BFGS:   13 11:38:43      -53.578445        2.3248\n",
      "BFGS:   14 11:38:43      -53.860204        1.4532\n",
      "BFGS:   15 11:38:43      -54.025981        0.9587\n",
      "BFGS:   16 11:38:43      -54.219442        1.1179\n",
      "BFGS:   17 11:38:43      -54.399364        1.4402\n",
      "BFGS:   18 11:38:43      -54.317697        3.2805\n",
      "BFGS:   19 11:38:43      -54.601608        1.2339\n",
      "BFGS:   20 11:38:43      -54.690204        0.8922\n",
      "[[ 4.6606872   5.25237198  3.14500526]\n",
      " [ 1.91482237  0.21045002  2.25264426]\n",
      " [-0.06597735  5.82688823  0.96644027]\n",
      " [ 4.69530254  4.05588339  5.53695478]\n",
      " [ 2.82472988  3.04412599  4.22389271]\n",
      " [ 1.84018726  5.00653867  5.51380162]\n",
      " [ 4.33536047  0.71588004  5.39895511]\n",
      " [ 2.42951618  1.95563743  0.58451023]\n",
      " [ 1.49167427  1.03024536  4.45025464]\n",
      " [ 4.01050945  1.57235128  2.55333148]\n",
      " [ 0.89433998  4.16281681  3.243767  ]\n",
      " [ 0.3530481   3.06925413  1.14286287]\n",
      " [ 5.66317865  2.30627813  4.13690527]\n",
      " [ 3.15051591  4.20446212  1.4458067 ]]\n",
      "-54.69020433806807\n"
     ]
    }
   ],
   "source": [
    "relax_structure(xtl_1, steps=20, fmax=0.05)\n",
    "print(xtl_1.get_positions())\n",
    "print(xtl_1.get_potential_energy())"
   ]
  },
  {
   "cell_type": "code",
   "execution_count": 6,
   "id": "41669781-c992-405f-8750-123e793bca10",
   "metadata": {},
   "outputs": [],
   "source": [
    "maxstep=2\n",
    "angle_limit=30\n",
    "starting_energy = xtl_1.get_potential_energy()\n",
    "\n",
    "dyn=ContourExploration(xtl_1, \n",
    "                       maxstep=maxstep,\n",
    "                       angle_limit=angle_limit, \n",
    "                       remove_translation=True,\n",
    "                       trajectory='xtl_1_{}_{}_notranslation_potentiostat.traj'.format(maxstep, angle_limit),\n",
    "                       append_trajectory=True,\n",
    "                       logfile='contour_{}_{}_{}_notranslation_potentiostat.log'.format(maxstep, angle_limit, id_1)\n",
    "                      )\n",
    "#dyn.run(20)\n",
    "\n",
    "for energy_step in np.linspace(0, 1, 20):\n",
    "    dyn.energy_target=starting_energy + energy_step*xtl_1.get_global_number_of_atoms()\n",
    "    dyn.run(1)\n",
    "    #xtl_1.write('structures/{}_{}_{}_{}_notranslation.cif'.format(maxstep, angle_limit, id_1, energy_step))"
   ]
  },
  {
   "cell_type": "code",
   "execution_count": 7,
   "id": "6363cba0-b498-40fe-988c-fc1cf570bf31",
   "metadata": {},
   "outputs": [
    {
     "name": "stdout",
     "output_type": "stream",
     "text": [
      "[[4.99538459 5.25806274 2.63031449]\n",
      " [1.99355409 0.02770307 2.1976636 ]\n",
      " [0.50207267 6.17093956 0.55474784]\n",
      " [3.65871373 4.04939682 5.86579804]\n",
      " [3.13565602 2.89749019 4.18263102]\n",
      " [2.41630559 5.69627836 5.60546444]\n",
      " [4.71618464 0.34798185 4.88801786]\n",
      " [1.91925906 2.02577086 0.87140415]\n",
      " [1.13198135 1.45874995 4.70356922]\n",
      " [4.01489881 1.0615325  2.06422657]\n",
      " [0.94735526 4.10669275 3.08236811]\n",
      " [0.26305516 3.13493315 0.89235499]\n",
      " [5.12605882 2.74207262 5.05936727]\n",
      " [3.37741514 3.43557915 1.99720458]]\n",
      "-38.82634988699167\n"
     ]
    }
   ],
   "source": [
    "print(xtl_1.get_positions())\n",
    "print(xtl_1.get_potential_energy())"
   ]
  },
  {
   "cell_type": "code",
   "execution_count": null,
   "id": "184b78b8-b13f-47a1-8153-784ff7169812",
   "metadata": {},
   "outputs": [],
   "source": []
  }
 ],
 "metadata": {
  "kernelspec": {
   "display_name": "Python 3",
   "language": "python",
   "name": "python3"
  },
  "language_info": {
   "codemirror_mode": {
    "name": "ipython",
    "version": 3
   },
   "file_extension": ".py",
   "mimetype": "text/x-python",
   "name": "python",
   "nbconvert_exporter": "python",
   "pygments_lexer": "ipython3",
   "version": "3.8.10"
  }
 },
 "nbformat": 4,
 "nbformat_minor": 5
}
