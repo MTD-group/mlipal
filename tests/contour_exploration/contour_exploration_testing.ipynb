{
 "cells": [
  {
   "cell_type": "code",
   "execution_count": 1,
   "id": "67bc86d5-9b60-491e-8cb0-cca6da759c03",
   "metadata": {},
   "outputs": [],
   "source": [
    "import ase.db\n",
    "import ase.io\n",
    "from ase.md.contour_exploration import ContourExploration\n",
    "import numpy as np\n",
    "from relaxation import relax_structure"
   ]
  },
  {
   "cell_type": "code",
   "execution_count": 2,
   "id": "4f1f097b-28b1-4671-82f0-dd7ef54118a9",
   "metadata": {},
   "outputs": [],
   "source": [
    "db = ase.db.connect('structures.db')"
   ]
  },
  {
   "cell_type": "code",
   "execution_count": 3,
   "id": "86eddad4-fbf7-4669-8d9c-b99d842acd29",
   "metadata": {},
   "outputs": [
    {
     "data": {
      "text/plain": [
       "{'hash': 'e04e48aee1ce94c5940c16bb7886952f', 'type': 'ev'}"
      ]
     },
     "execution_count": 3,
     "metadata": {},
     "output_type": "execute_result"
    }
   ],
   "source": [
    "db.get(id=1).key_value_pairs"
   ]
  },
  {
   "cell_type": "code",
   "execution_count": 4,
   "id": "ca65523d-9770-48d8-8dbb-b876c753f779",
   "metadata": {},
   "outputs": [],
   "source": [
    "id_1 = 1336\n",
    "xtl_1 = db.get_atoms(id=id_1)"
   ]
  },
  {
   "cell_type": "code",
   "execution_count": 5,
   "id": "7b9e7042-3183-49e0-80d7-87f68729aaa0",
   "metadata": {},
   "outputs": [
    {
     "name": "stdout",
     "output_type": "stream",
     "text": [
      "      Step     Time          Energy         fmax\n",
      "BFGS:    0 13:29:18      -34.877742       13.2226\n",
      "BFGS:    1 13:29:18      -40.755500        6.6097\n",
      "BFGS:    2 13:29:18      -42.912183        4.0752\n",
      "BFGS:    3 13:29:18      -44.033061        5.6583\n",
      "BFGS:    4 13:29:18      -44.741772        2.9413\n",
      "BFGS:    5 13:29:18      -45.380643        1.3581\n",
      "BFGS:    6 13:29:18      -45.699269        2.6014\n",
      "BFGS:    7 13:29:18      -46.073611        3.1920\n",
      "BFGS:    8 13:29:18      -46.331915        1.4130\n",
      "BFGS:    9 13:29:18      -46.494945        0.8481\n",
      "BFGS:   10 13:29:18      -46.580067        1.1444\n",
      "BFGS:   11 13:29:19      -46.695673        1.1867\n",
      "BFGS:   12 13:29:19      -46.844436        0.9606\n",
      "BFGS:   13 13:29:19      -46.951599        1.2963\n",
      "BFGS:   14 13:29:19      -47.099025        2.2071\n",
      "BFGS:   15 13:29:19      -47.473795        2.9329\n",
      "BFGS:   16 13:29:19      -47.849798        2.3130\n",
      "BFGS:   17 13:29:19      -48.161698        1.3057\n",
      "BFGS:   18 13:29:19      -48.261349        1.1604\n",
      "BFGS:   19 13:29:19      -48.361426        0.7910\n",
      "BFGS:   20 13:29:19      -48.411330        0.4842\n"
     ]
    }
   ],
   "source": [
    "maxstep=1\n",
    "angle_limit=30\n",
    "starting_energy = xtl_1.get_potential_energy()\n",
    "delta_E = 1\n",
    "\n",
    "traj = 'id{}_step{}_angle{}_{}eV.traj'.format(id_1, maxstep, angle_limit, delta_E)\n",
    "\n",
    "relax_structure(xtl_1, steps=20, fmax=0.05, trajectory=traj)"
   ]
  },
  {
   "cell_type": "code",
   "execution_count": 6,
   "id": "41669781-c992-405f-8750-123e793bca10",
   "metadata": {},
   "outputs": [],
   "source": [
    "dyn=ContourExploration(xtl_1,\n",
    "                       maxstep=maxstep,\n",
    "                       angle_limit=angle_limit, \n",
    "                       remove_translation=True,\n",
    "                       trajectory=traj,\n",
    "                       append_trajectory=True,\n",
    "                       logfile='contour_id{}_step{}_angle{}_{}eV.log'.format(id_1, maxstep, angle_limit, delta_E)\n",
    "                      )\n",
    "#dyn.run(20)\n",
    "\n",
    "for energy_step in np.linspace(0, delta_E, 20):\n",
    "    dyn.energy_target = starting_energy + energy_step*xtl_1.get_global_number_of_atoms()\n",
    "    dyn.run(1)\n",
    "    #xtl_1.write('structures/{}_{}_{}_{}_notranslation.cif'.format(maxstep, angle_limit, id_1, energy_step))"
   ]
  }
 ],
 "metadata": {
  "kernelspec": {
   "display_name": "Python 3",
   "language": "python",
   "name": "python3"
  },
  "language_info": {
   "codemirror_mode": {
    "name": "ipython",
    "version": 3
   },
   "file_extension": ".py",
   "mimetype": "text/x-python",
   "name": "python",
   "nbconvert_exporter": "python",
   "pygments_lexer": "ipython3",
   "version": "3.9.6"
  }
 },
 "nbformat": 4,
 "nbformat_minor": 5
}
